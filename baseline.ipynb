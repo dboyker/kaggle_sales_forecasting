{
 "cells": [
  {
   "cell_type": "code",
   "execution_count": 2,
   "metadata": {},
   "outputs": [],
   "source": [
    "import numpy as np\n",
    "from tqdm.notebook import tqdm"
   ]
  },
  {
   "cell_type": "code",
   "execution_count": 3,
   "metadata": {},
   "outputs": [
    {
     "name": "stdout",
     "output_type": "stream",
     "text": [
      "(896500, 27) (896500, 6)\n"
     ]
    }
   ],
   "source": [
    "x = np.load('x.npy')\n",
    "y = np.load('y.npy')\n",
    "print(x.shape, y.shape)"
   ]
  },
  {
   "cell_type": "code",
   "execution_count": 15,
   "metadata": {},
   "outputs": [
    {
     "data": {
      "application/vnd.jupyter.widget-view+json": {
       "model_id": "217dc6230e1b4d768e99e2a93a1788dd",
       "version_major": 2,
       "version_minor": 0
      },
      "text/plain": [
       "HBox(children=(HTML(value=''), FloatProgress(value=0.0, max=896500.0), HTML(value='')))"
      ]
     },
     "metadata": {},
     "output_type": "display_data"
    },
    {
     "name": "stdout",
     "output_type": "stream",
     "text": [
      "\n"
     ]
    }
   ],
   "source": [
    "# Baseline model\n",
    "# y+1 = average(x-6, x-13, x-20, x-27)\n",
    "# y+2 = average(x-5, x-12, x-19, x-26)\n",
    "# ...\n",
    "# y+i = average(x-7+i, x-2*7+i, x-3*7+i, x-4*7+i)\n",
    "\n",
    "y_pred = np.zeros(shape=y.shape)\n",
    "for i, f in enumerate(tqdm(x)):\n",
    "    for j in range(1, 7):\n",
    "        mean = np.mean([\n",
    "            f[np.absolute(-7+j) - 1],\n",
    "            f[np.absolute(-14+j) - 1],\n",
    "            f[np.absolute(-21+j) - 1],\n",
    "            f[np.absolute(-28+j) - 1]\n",
    "        ])\n",
    "        y_pred[i][j-1] = mean"
   ]
  },
  {
   "cell_type": "code",
   "execution_count": 77,
   "metadata": {},
   "outputs": [],
   "source": [
    "def mape(y_t, y_p):\n",
    "    y_t = y_t.flatten()\n",
    "    y_p = y_p.flatten()\n",
    "    mask = y_t != 0\n",
    "    return (np.fabs(y_t - y_p)/y_t)[mask].mean()"
   ]
  },
  {
   "cell_type": "code",
   "execution_count": 87,
   "metadata": {},
   "outputs": [
    {
     "name": "stdout",
     "output_type": "stream",
     "text": [
      "0\n",
      "0.1639847279272915\n",
      "7.197686279977691\n",
      "-\n",
      "1\n",
      "0.16398410178050357\n",
      "7.199047685443391\n",
      "-\n",
      "2\n",
      "0.16397359699926448\n",
      "7.200507529280536\n",
      "-\n",
      "3\n",
      "0.16395352891943707\n",
      "7.201335192414947\n",
      "-\n",
      "4\n",
      "0.16393800710845136\n",
      "7.2014762967094255\n",
      "-\n",
      "5\n",
      "0.16392300324868048\n",
      "7.201893753485778\n",
      "-\n"
     ]
    },
    {
     "name": "stderr",
     "output_type": "stream",
     "text": [
      "/Users/david/Desktop/projects/.venv/python_ml/lib/python3.7/site-packages/ipykernel_launcher.py:5: RuntimeWarning: divide by zero encountered in true_divide\n",
      "  \"\"\"\n",
      "/Users/david/Desktop/projects/.venv/python_ml/lib/python3.7/site-packages/ipykernel_launcher.py:5: RuntimeWarning: divide by zero encountered in true_divide\n",
      "  \"\"\"\n",
      "/Users/david/Desktop/projects/.venv/python_ml/lib/python3.7/site-packages/ipykernel_launcher.py:5: RuntimeWarning: divide by zero encountered in true_divide\n",
      "  \"\"\"\n",
      "/Users/david/Desktop/projects/.venv/python_ml/lib/python3.7/site-packages/ipykernel_launcher.py:5: RuntimeWarning: divide by zero encountered in true_divide\n",
      "  \"\"\"\n",
      "/Users/david/Desktop/projects/.venv/python_ml/lib/python3.7/site-packages/ipykernel_launcher.py:5: RuntimeWarning: divide by zero encountered in true_divide\n",
      "  \"\"\"\n",
      "/Users/david/Desktop/projects/.venv/python_ml/lib/python3.7/site-packages/ipykernel_launcher.py:5: RuntimeWarning: divide by zero encountered in true_divide\n",
      "  \"\"\"\n"
     ]
    }
   ],
   "source": [
    "for i in range(0, 6):\n",
    "    print(i)\n",
    "    print(mape(y[:, i], y_pred[:, i]))\n",
    "    print(mean_absolute_error(y[:, i], y_pred[:, i]))\n",
    "    print('-')"
   ]
  },
  {
   "cell_type": "code",
   "execution_count": null,
   "metadata": {},
   "outputs": [],
   "source": []
  }
 ],
 "metadata": {
  "kernelspec": {
   "display_name": "python-ml",
   "language": "python",
   "name": "python-ml"
  },
  "language_info": {
   "codemirror_mode": {
    "name": "ipython",
    "version": 3
   },
   "file_extension": ".py",
   "mimetype": "text/x-python",
   "name": "python",
   "nbconvert_exporter": "python",
   "pygments_lexer": "ipython3",
   "version": "3.7.7"
  }
 },
 "nbformat": 4,
 "nbformat_minor": 4
}
