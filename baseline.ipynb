{
 "cells": [
  {
   "cell_type": "code",
   "execution_count": null,
   "metadata": {},
   "outputs": [],
   "source": [
    "import numpy as np\n",
    "from sklearn.metrics import mean_squared_error, mean_absolute_error\n",
    "from tqdm.notebook import tqdm\n",
    "import pandas as pd\n",
    "import plotly.express as px"
   ]
  },
  {
   "cell_type": "code",
   "execution_count": null,
   "metadata": {},
   "outputs": [],
   "source": [
    "x = np.load('x.npy')\n",
    "y = np.load('y.npy')\n",
    "print(x.shape, y.shape)"
   ]
  },
  {
   "cell_type": "code",
   "execution_count": null,
   "metadata": {},
   "outputs": [],
   "source": [
    "# Baseline model\n",
    "# y+1 = average(x-6, x-13, x-20, x-27)\n",
    "# y+2 = average(x-5, x-12, x-19, x-26)\n",
    "# ...\n",
    "# y+i = average(x-7+i, x-2*7+i, x-3*7+i, x-4*7+i)\n",
    "y_pred = np.zeros(shape=y.shape)\n",
    "for i, f in enumerate(tqdm(x)):\n",
    "    for j in range(1, 7):\n",
    "        mean = np.mean([\n",
    "            f[np.absolute(-7+j) - 1],\n",
    "            f[np.absolute(-14+j) - 1],\n",
    "            f[np.absolute(-21+j) - 1],\n",
    "            f[np.absolute(-28+j) - 1]\n",
    "        ])\n",
    "        y_pred[i][j-1] = mean"
   ]
  },
  {
   "cell_type": "code",
   "execution_count": null,
   "metadata": {},
   "outputs": [],
   "source": [
    "def mape(y_t, y_p):\n",
    "    y_t = y_t.flatten()\n",
    "    y_p = y_p.flatten()\n",
    "    mask = y_t != 0\n",
    "    return (np.fabs(y_t - y_p)/y_t)[mask].mean()"
   ]
  },
  {
   "cell_type": "code",
   "execution_count": null,
   "metadata": {},
   "outputs": [],
   "source": [
    "y_pred = y_pred + 0.2"
   ]
  },
  {
   "cell_type": "code",
   "execution_count": null,
   "metadata": {},
   "outputs": [],
   "source": [
    "for i in range(0, 6):\n",
    "    print(i)\n",
    "    print('mape: {}'.format(mape(y[:, i], y_pred[:, i])))\n",
    "    print('mse: {}'.format(mean_squared_error(y[:, i], y_pred[:, i])))\n",
    "    print('mae: {}'.format(mean_absolute_error(y[:, i], y_pred[:, i])))\n",
    "    print('-')"
   ]
  },
  {
   "cell_type": "code",
   "execution_count": null,
   "metadata": {},
   "outputs": [],
   "source": [
    "data = pd.DataFrame({'y': y[:1000].flatten(), 'y_pred': y_pred[:1000].flatten()}).reset_index().melt(id_vars='index').sort_values('index')\n",
    "px.line(data, x='index', y='value', color='variable')"
   ]
  }
 ],
 "metadata": {
  "kernelspec": {
   "display_name": "python-ml",
   "language": "python",
   "name": "python-ml"
  },
  "language_info": {
   "codemirror_mode": {
    "name": "ipython",
    "version": 3
   },
   "file_extension": ".py",
   "mimetype": "text/x-python",
   "name": "python",
   "nbconvert_exporter": "python",
   "pygments_lexer": "ipython3",
   "version": "3.7.7"
  }
 },
 "nbformat": 4,
 "nbformat_minor": 4
}
