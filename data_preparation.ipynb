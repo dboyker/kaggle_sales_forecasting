{
 "cells": [
  {
   "cell_type": "code",
   "execution_count": null,
   "metadata": {},
   "outputs": [],
   "source": [
    "import pandas as pd\n",
    "import numpy as np\n",
    "from sklearn.preprocessing import Normalizer\n",
    "from tqdm.notebook import tqdm"
   ]
  },
  {
   "cell_type": "code",
   "execution_count": null,
   "metadata": {},
   "outputs": [],
   "source": [
    "data = pd.read_csv('train.csv')\n",
    "data['date'] = pd.to_datetime(data.date, dayfirst=False)"
   ]
  },
  {
   "cell_type": "code",
   "execution_count": null,
   "metadata": {},
   "outputs": [],
   "source": [
    "data"
   ]
  },
  {
   "cell_type": "code",
   "execution_count": null,
   "metadata": {},
   "outputs": [],
   "source": [
    "# Store item combinations\n",
    "store_item_combis = np.unique(data[['store', 'item']].values, axis=0)"
   ]
  },
  {
   "cell_type": "code",
   "execution_count": null,
   "metadata": {},
   "outputs": [],
   "source": [
    "n_lookback = 4 * 7 # Roughly one month\n",
    "n_future = 7 # One week\n",
    "all_sub_data = []\n",
    "for combi in tqdm(store_item_combis):\n",
    "    sub_data = data[(data.store == combi[0]) & (data.item == combi[1])].sort_values('date', ascending=True)\n",
    "    # Past observation\n",
    "    for i in range(1, n_lookback):\n",
    "        sub_data['sales-{}'.format(i)] = sub_data['sales'].shift(i)\n",
    "    # Unseen observation\n",
    "    for i in range(1, n_future):\n",
    "        sub_data['sales+{}'.format(i)] = sub_data['sales'].shift(-i)\n",
    "    all_sub_data.append(sub_data)"
   ]
  },
  {
   "cell_type": "code",
   "execution_count": null,
   "metadata": {},
   "outputs": [],
   "source": [
    "target_col_names = ['sales+{}'.format(i) for i in range(1, n_future)]\n",
    "feature_col_names = ['sales-{}'.format(i) for i in range(1, n_lookback)]"
   ]
  },
  {
   "cell_type": "code",
   "execution_count": null,
   "metadata": {},
   "outputs": [],
   "source": [
    "data = pd.concat(all_sub_data)\n",
    "data.dropna(inplace=True)\n",
    "data.head()"
   ]
  },
  {
   "cell_type": "code",
   "execution_count": null,
   "metadata": {},
   "outputs": [],
   "source": [
    "y = data[target_col_names].values\n",
    "x = data[feature_col_names].values\n",
    "scaler = Normalizer()\n",
    "scaler.fit(x)\n",
    "x = scaler.transform(x)\n",
    "y = scaler.transform(y)\n",
    "print(x.shape, y.shape)"
   ]
  },
  {
   "cell_type": "code",
   "execution_count": null,
   "metadata": {},
   "outputs": [],
   "source": [
    "np.save('x.npy', x)\n",
    "np.save('y.npy', y)"
   ]
  },
  {
   "cell_type": "code",
   "execution_count": null,
   "metadata": {},
   "outputs": [],
   "source": [
    "# date to categorical\n",
    "data['year'] = data['date'].dt.year\n",
    "data['month'] = data['date'].dt.month\n",
    "data['day'] = data['date'].dt.day\n",
    "data.drop(columns=['date'], inplace=True)"
   ]
  },
  {
   "cell_type": "code",
   "execution_count": null,
   "metadata": {},
   "outputs": [],
   "source": [
    "# cyclical date features\n",
    "# normalization"
   ]
  }
 ],
 "metadata": {
  "kernelspec": {
   "display_name": "python-ml",
   "language": "python",
   "name": "python-ml"
  },
  "language_info": {
   "codemirror_mode": {
    "name": "ipython",
    "version": 3
   },
   "file_extension": ".py",
   "mimetype": "text/x-python",
   "name": "python",
   "nbconvert_exporter": "python",
   "pygments_lexer": "ipython3",
   "version": "3.7.7"
  }
 },
 "nbformat": 4,
 "nbformat_minor": 4
}
