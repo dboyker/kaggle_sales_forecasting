{
 "cells": [
  {
   "cell_type": "code",
   "execution_count": null,
   "metadata": {},
   "outputs": [],
   "source": [
    "import numpy as np\n",
    "import tensorflow as tf\n",
    "from tensorflow.keras import Input, Model\n",
    "from tensorflow.keras.layers import LSTM, GRU, Dense, BatchNormalization\n",
    "from tensorflow.keras import backend\n",
    "from tqdm.notebook import tqdm\n",
    "import plotly.express as px\n",
    "import pandas as pd"
   ]
  },
  {
   "cell_type": "markdown",
   "metadata": {},
   "source": [
    "##### Data preparation"
   ]
  },
  {
   "cell_type": "code",
   "execution_count": null,
   "metadata": {},
   "outputs": [],
   "source": [
    "x = np.load('x.npy')\n",
    "y = np.load('y.npy')\n",
    "y_forced = np.zeros(shape=y.shape)\n",
    "for i in tqdm(range(y_forced.shape[0])):\n",
    "    y_forced[i] = np.roll(y[i], 1)\n",
    "    y_forced[i][0] = 0\n",
    "x = np.expand_dims(x, axis=2)\n",
    "y = np.expand_dims(y, axis=2)\n",
    "y_forced = np.expand_dims(y_forced, axis=2)\n",
    "print(x.shape, y.shape, y_forced.shape)"
   ]
  },
  {
   "cell_type": "markdown",
   "metadata": {},
   "source": [
    "##### Model definition"
   ]
  },
  {
   "cell_type": "code",
   "execution_count": null,
   "metadata": {},
   "outputs": [],
   "source": [
    "backend.clear_session()\n",
    "# Dimensions\n",
    "encoder_timesteps = 27\n",
    "decoder_timesteps = 6\n",
    "latent_dim = 16\n",
    "n_features = 1\n",
    "\n",
    "# Encoder\n",
    "encoder_in = Input(shape=(encoder_timesteps, n_features), name='encoder_in')\n",
    "gru_encoder = GRU(units=latent_dim, return_state=True, name='encoder_lstm')\n",
    "_, encoder_state = gru_encoder(encoder_in)\n",
    "\n",
    "# Decoder\n",
    "decoder_in = Input(shape=(decoder_timesteps, n_features), name='decoder_in')\n",
    "gru_decoder = GRU(latent_dim, return_sequences=True, return_state=True, name='decoder_gru')\n",
    "decoder_out_training, _ = gru_decoder(decoder_in, initial_state=encoder_state)\n",
    "\n",
    "# Decoder in prediction mode\n",
    "decoder_state_in = Input(shape=(latent_dim,), name='decoder_state_in')\n",
    "decoder_out_prediction, decoder_state_out = gru_decoder(decoder_in, initial_state=decoder_state_in)\n",
    "\n",
    "# Dense output\n",
    "decoder_dense = Dense(1, activation='sigmoid')\n",
    "decoder_out_training = decoder_dense(decoder_out_training)\n",
    "decoder_out_prediction = decoder_dense(decoder_out_prediction)\n",
    "\n",
    "# Training model (allowing teacher forcing)\n",
    "training_model = Model([encoder_in, decoder_in], decoder_out_training)\n",
    "\n",
    "# Prediction model\n",
    "encoder_model = Model(encoder_in, encoder_state)\n",
    "decoder_model = Model([decoder_in, decoder_state_in], [decoder_out_prediction, decoder_state_out])\n",
    "\n",
    "# Summary\n",
    "print(training_model.summary())\n",
    "print(encoder_model.summary())\n",
    "print(decoder_model.summary())"
   ]
  },
  {
   "cell_type": "markdown",
   "metadata": {},
   "source": [
    "##### Training"
   ]
  },
  {
   "cell_type": "code",
   "execution_count": null,
   "metadata": {},
   "outputs": [],
   "source": [
    "epochs = 10\n",
    "training_model.compile(optimizer='rmsprop', loss='mse', metrics=['mse', 'mae'])\n",
    "training_model.fit([x, y_forced], y,\n",
    "          epochs=epochs,\n",
    "          batch_size=1024,\n",
    "          validation_split=0.3\n",
    "         )"
   ]
  },
  {
   "cell_type": "code",
   "execution_count": null,
   "metadata": {},
   "outputs": [],
   "source": [
    "y_pred = training_model.predict([x[:1000], y_forced[:1000]])\n",
    "data = pd.DataFrame({'y': y[:1000].flatten(), 'y_pred': y_pred.flatten()}).reset_index().melt(id_vars='index').sort_values('index')\n",
    "px.line(data, x='index', y='value', color='variable')"
   ]
  },
  {
   "cell_type": "markdown",
   "metadata": {},
   "source": [
    "##### Validation"
   ]
  },
  {
   "cell_type": "code",
   "execution_count": null,
   "metadata": {},
   "outputs": [],
   "source": []
  }
 ],
 "metadata": {
  "kernelspec": {
   "display_name": "python-ml",
   "language": "python",
   "name": "python-ml"
  },
  "language_info": {
   "codemirror_mode": {
    "name": "ipython",
    "version": 3
   },
   "file_extension": ".py",
   "mimetype": "text/x-python",
   "name": "python",
   "nbconvert_exporter": "python",
   "pygments_lexer": "ipython3",
   "version": "3.7.7"
  }
 },
 "nbformat": 4,
 "nbformat_minor": 4
}
