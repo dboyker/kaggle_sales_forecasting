{
 "cells": [
  {
   "cell_type": "code",
   "execution_count": 103,
   "metadata": {},
   "outputs": [],
   "source": [
    "import numpy as np\n",
    "import tensorflow as tf\n",
    "from tensorflow.keras import Input, Model\n",
    "from tensorflow.keras.layers import LSTM, Dense"
   ]
  },
  {
   "cell_type": "code",
   "execution_count": 123,
   "metadata": {},
   "outputs": [],
   "source": [
    "# Encoder\n",
    "encoder_timesteps = 27\n",
    "decoder_timesteps = 6\n",
    "latent_dim = 16\n",
    "encoder_in = Input(shape=(None, encoder_timesteps), name='encoder_in')\n",
    "_, state_h, state_c = LSTM(units=latent_dim, return_state=True, name='encoder_lstm')(encoder_in)\n",
    "encoder_states = [state_h, state_c]"
   ]
  },
  {
   "cell_type": "code",
   "execution_count": 124,
   "metadata": {},
   "outputs": [],
   "source": [
    "# Decoder\n",
    "decoder_in = Input(shape=(None, decoder_timesteps), name='decoder_in')\n",
    "a, _, _ = LSTM(latent_dim, return_sequences=True, return_state=True, name='decoder_lstm')(decoder_in, initial_state=encoder_states)\n",
    "decoder_out = Dense(decoder_timesteps, activation='softmax')(a)"
   ]
  },
  {
   "cell_type": "code",
   "execution_count": 125,
   "metadata": {},
   "outputs": [
    {
     "name": "stdout",
     "output_type": "stream",
     "text": [
      "Model: \"functional_52\"\n",
      "__________________________________________________________________________________________________\n",
      "Layer (type)                    Output Shape         Param #     Connected to                     \n",
      "==================================================================================================\n",
      "encoder_in (InputLayer)         [(None, None, 27)]   0                                            \n",
      "__________________________________________________________________________________________________\n",
      "decoder_in (InputLayer)         [(None, None, 6)]    0                                            \n",
      "__________________________________________________________________________________________________\n",
      "encoder_lstm (LSTM)             [(None, 16), (None,  2816        encoder_in[0][0]                 \n",
      "__________________________________________________________________________________________________\n",
      "decoder_lstm (LSTM)             [(None, None, 16), ( 1472        decoder_in[0][0]                 \n",
      "                                                                 encoder_lstm[0][1]               \n",
      "                                                                 encoder_lstm[0][2]               \n",
      "__________________________________________________________________________________________________\n",
      "dense_22 (Dense)                (None, None, 6)      102         decoder_lstm[0][0]               \n",
      "==================================================================================================\n",
      "Total params: 4,390\n",
      "Trainable params: 4,390\n",
      "Non-trainable params: 0\n",
      "__________________________________________________________________________________________________\n"
     ]
    }
   ],
   "source": [
    "# Entire model\n",
    "model = Model([encoder_in, decoder_in], decoder_out)\n",
    "model.summary()"
   ]
  },
  {
   "cell_type": "code",
   "execution_count": 122,
   "metadata": {},
   "outputs": [
    {
     "name": "stdout",
     "output_type": "stream",
     "text": [
      "(896500, 27, 1) (896500, 6, 1)\n"
     ]
    }
   ],
   "source": [
    "x = np.load('x.npy')\n",
    "y = np.load('y.npy')\n",
    "x = np.expand_dims(x, axis=2)\n",
    "y = np.expand_dims(y, axis=2)\n",
    "print(x.shape, y.shape)"
   ]
  },
  {
   "cell_type": "code",
   "execution_count": null,
   "metadata": {},
   "outputs": [],
   "source": [
    "model.compile(optimizer='rmsprop', loss='categorical_crossentropy')\n",
    "model.fit([encoder_input_data, decoder_input_data], decoder_target_data,\n",
    "          batch_size=batch_size,\n",
    "          epochs=epochs,\n",
    "          validation_split=0.2)"
   ]
  }
 ],
 "metadata": {
  "kernelspec": {
   "display_name": "python-ml",
   "language": "python",
   "name": "python-ml"
  },
  "language_info": {
   "codemirror_mode": {
    "name": "ipython",
    "version": 3
   },
   "file_extension": ".py",
   "mimetype": "text/x-python",
   "name": "python",
   "nbconvert_exporter": "python",
   "pygments_lexer": "ipython3",
   "version": "3.7.7"
  }
 },
 "nbformat": 4,
 "nbformat_minor": 4
}
